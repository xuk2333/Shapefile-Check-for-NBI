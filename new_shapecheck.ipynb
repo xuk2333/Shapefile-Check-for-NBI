{
 "cells": [
  {
   "cell_type": "code",
   "execution_count": 1,
   "metadata": {},
   "outputs": [],
   "source": [
    "import shapely\n",
    "from shapely.geometry import MultiPoint, Point, Polygon\n",
    "import shapefile\n",
    "import pandas as pd\n",
    "import numpy as np"
   ]
  },
  {
   "cell_type": "code",
   "execution_count": 2,
   "metadata": {},
   "outputs": [],
   "source": [
    "def get_us_border_polygon():\n",
    "    sf = shapefile.Reader(\"tl_2019_us_county.dbf\")\n",
    "    shapes = sf.shapes()\n",
    "    fields = sf.fields\n",
    "    records = sf.records()\n",
    "    county_polygons = {}\n",
    "    for i, record in enumerate(records):\n",
    "        county = record[3]  #[3] for 5 digit FIPS CODE of county, while using record[4] indicates the name of county\n",
    "        points = shapes[i].points\n",
    "        poly = Polygon(points)\n",
    "        county_polygons[county] = poly\n",
    "\n",
    "    return county_polygons"
   ]
  },
  {
   "cell_type": "code",
   "execution_count": 3,
   "metadata": {},
   "outputs": [],
   "source": [
    "def in_us(lat,lon):\n",
    "    p = Point(lon,lat)\n",
    "    for county, poly in county_poly.items():\n",
    "        if poly.contains(p):\n",
    "            return county\n",
    "        elif poly.intersects(p):\n",
    "            return county\n",
    "    return None"
   ]
  },
  {
   "cell_type": "code",
   "execution_count": 5,
   "metadata": {},
   "outputs": [],
   "source": [
    "county_poly = get_us_border_polygon()"
   ]
  },
  {
   "cell_type": "code",
   "execution_count": 218,
   "metadata": {},
   "outputs": [],
   "source": [
    "df = pd.read_csv('C:/Users/feihu/Desktop/geo/geo_1992.csv',\n",
    "                 dtype={\"STATE_CODE_001\": str ,\"COUNTY_CODE_003\" : str },\n",
    "                 low_memory=False).fillna(0)"
   ]
  },
  {
   "cell_type": "code",
   "execution_count": 219,
   "metadata": {},
   "outputs": [],
   "source": [
    "df['COUNTY_CODE_003']= pd.to_numeric(df['COUNTY_CODE_003'],errors='coerce')\n",
    "df[\"COUNTY_CODE_003\"] = df[\"COUNTY_CODE_003\"].astype(int)\n",
    "df[\"STATE_CODE_001\"] = df[\"STATE_CODE_001\"].astype(str).apply(lambda x: x.zfill(2))\n",
    "df[\"COUNTY_CODE_003\"] = df[\"COUNTY_CODE_003\"].astype(str).apply(lambda x: x.zfill(3))\n",
    "df[\"FIPS\"] = df[\"STATE_CODE_001\"] + df[\"COUNTY_CODE_003\"]\n",
    "df[\"FIPS\"] = df[\"FIPS\"].apply(lambda x: x.zfill(5))"
   ]
  },
  {
   "cell_type": "code",
   "execution_count": 220,
   "metadata": {},
   "outputs": [],
   "source": [
    "df['in_US'] = df.apply(lambda x: in_us(x['LAT_016'],x['LONG_017']),axis=1)"
   ]
  },
  {
   "cell_type": "code",
   "execution_count": 221,
   "metadata": {},
   "outputs": [
    {
     "name": "stdout",
     "output_type": "stream",
     "text": [
      "484981 instances in orginal NBI\n",
      "484130 intances in US\n"
     ]
    }
   ],
   "source": [
    "print(df.shape[0],\"instances in orginal NBI\")\n",
    "print(df['in_US'].count(),'intances in US')"
   ]
  },
  {
   "cell_type": "code",
   "execution_count": 222,
   "metadata": {},
   "outputs": [],
   "source": [
    "df2 = df[df['in_US'].isnull()]\n",
    "df2.to_csv('C:/Users/feihu/Desktop/result/notinUS/1992_notinus.csv', index=False)"
   ]
  },
  {
   "cell_type": "code",
   "execution_count": 223,
   "metadata": {
    "scrolled": true
   },
   "outputs": [
    {
     "name": "stdout",
     "output_type": "stream",
     "text": [
      "There are 452445 instances have same FIPS code\n",
      "There are 32536 instances have difference county FIPS code\n",
      "There are 482437 instances have same state FIPS code\n",
      "There are 2544 instances have difference state FIPS code\n"
     ]
    }
   ],
   "source": [
    "df['county_compare'] = np.where(df['FIPS'] == df['in_US'], True , False)\n",
    "df['state'] = df['in_US'].str[:2]\n",
    "df['state_compare'] = np.where(df['state'] == df['STATE_CODE_001'], True , False)\n",
    "print('There are',df['county_compare'].sum(),'instances have same FIPS code')\n",
    "print('There are',df.shape[0]-df['county_compare'].sum(),'instances have difference county FIPS code')\n",
    "print('There are',df['state_compare'].sum(),'instances have same state FIPS code')\n",
    "print('There are',df.shape[0]-df['state_compare'].sum(),'instances have difference state FIPS code')"
   ]
  },
  {
   "cell_type": "code",
   "execution_count": 224,
   "metadata": {},
   "outputs": [],
   "source": [
    "df.to_csv('C:/Users/feihu/Desktop/result/result/1992_reslut.csv', index=False)"
   ]
  },
  {
   "cell_type": "code",
   "execution_count": 225,
   "metadata": {},
   "outputs": [],
   "source": [
    "df3 = df[df['county_compare'] == False]\n",
    "df3.to_csv('C:/Users/feihu/Desktop/result/diffFIPS_county/1992_diffFIPS.csv', index=False)\n",
    "df4 = df[df['state_compare'] == False]\n",
    "df4.to_csv('C:/Users/feihu/Desktop/result/diffFIPS_state/1992_diffFIPS.csv', index=False)"
   ]
  }
 ],
 "metadata": {
  "kernelspec": {
   "display_name": "Python 3 (ipykernel)",
   "language": "python",
   "name": "python3"
  },
  "language_info": {
   "codemirror_mode": {
    "name": "ipython",
    "version": 3
   },
   "file_extension": ".py",
   "mimetype": "text/x-python",
   "name": "python",
   "nbconvert_exporter": "python",
   "pygments_lexer": "ipython3",
   "version": "3.10.4"
  }
 },
 "nbformat": 4,
 "nbformat_minor": 4
}
